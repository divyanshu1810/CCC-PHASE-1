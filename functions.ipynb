{
 "cells": [
  {
   "cell_type": "code",
   "execution_count": 2,
   "metadata": {},
   "outputs": [
    {
     "name": "stdout",
     "output_type": "stream",
     "text": [
      "happy Coding ....\n"
     ]
    }
   ],
   "source": [
    "def greet():\n",
    "    print(\"happy Coding ....\")\n",
    "\n",
    "greet()"
   ]
  },
  {
   "attachments": {},
   "cell_type": "markdown",
   "metadata": {},
   "source": [
    "required arguments \n",
    "\n",
    "default arguments\n",
    "keyword arguments \n",
    "variable args\n",
    "keyword variable len arguments \n",
    "\n"
   ]
  },
  {
   "cell_type": "code",
   "execution_count": 7,
   "metadata": {},
   "outputs": [
    {
     "name": "stdout",
     "output_type": "stream",
     "text": [
      "a= 3 b= 2\n"
     ]
    }
   ],
   "source": [
    "# keyword arguments\n",
    "\n",
    "def test(a,b ):\n",
    "    print(\"a=\", a,\"b=\",b)\n",
    "    return \n",
    "test(b=2,a=3)\n"
   ]
  },
  {
   "attachments": {},
   "cell_type": "markdown",
   "metadata": {},
   "source": [
    " note :positional argument follows keyword argument"
   ]
  },
  {
   "cell_type": "code",
   "execution_count": 10,
   "metadata": {},
   "outputs": [
    {
     "name": "stdout",
     "output_type": "stream",
     "text": [
      "a= 3 b= 2\n",
      "a= 3 b= 0\n"
     ]
    }
   ],
   "source": [
    "# default argument\n",
    "def test(a,b=0 ):\n",
    "    print(\"a=\", a,\"b=\",b)\n",
    "    return \n",
    "test(3,2)\n",
    "test(3)\n",
    "  "
   ]
  },
  {
   "cell_type": "code",
   "execution_count": 12,
   "metadata": {},
   "outputs": [
    {
     "name": "stdout",
     "output_type": "stream",
     "text": [
      "a=  3 b=  5 c=  2 d=  9\n"
     ]
    }
   ],
   "source": [
    "def test(a,c,d,b=8 ):\n",
    "    print(\"a= \", a,\"b= \",b,\"c= \",c,\"d= \",d)\n",
    "    return \n",
    "test(3,2,d=9,b=5)\n",
    "# test(3,2,d=9,5) Error -> positional argument cannot follow keyrord \n",
    "# test(3,2,5,d=9)Error -> default argumentfollowing non defalutargument\n",
    "\n",
    "# test(3)"
   ]
  },
  {
   "cell_type": "code",
   "execution_count": 17,
   "metadata": {},
   "outputs": [
    {
     "name": "stdout",
     "output_type": "stream",
     "text": [
      "ccc ('python', 'ds') hyd\n"
     ]
    }
   ],
   "source": [
    "def test(a, *b,c):\n",
    "    print(a,b,c)\n",
    "\n",
    "    return\n",
    "test(\"ccc\",\"python\", \"ds\",c=\"hyd\")\n",
    "# test(\"ccc\",\"python\",\"ds\",\"hyd\") # Error non keyword argument follow var agrument"
   ]
  },
  {
   "cell_type": "code",
   "execution_count": 21,
   "metadata": {},
   "outputs": [
    {
     "name": "stdout",
     "output_type": "stream",
     "text": [
      "{'ds': 7}\n",
      "{'ds': 7, 'ps': 7, 'dancing': 10, 'ML': 6}\n"
     ]
    }
   ],
   "source": [
    "def test(**l): # ** makes the l as dictionary \n",
    "    print(l)\n",
    "    return\n",
    "test(ds=7)\n",
    "# test('ds'=7, 'ps'=7,'dancing'=10)\n",
    "# test('ds'=7, 'ps'=7,'dancing'=10, 'ML'=6)\n",
    "test(ds=7, ps=7,dancing=10, ML=6)\n",
    "\n"
   ]
  },
  {
   "attachments": {},
   "cell_type": "markdown",
   "metadata": {},
   "source": [
    "map function"
   ]
  },
  {
   "cell_type": "code",
   "execution_count": 22,
   "metadata": {},
   "outputs": [
    {
     "name": "stdout",
     "output_type": "stream",
     "text": [
      "sample\n"
     ]
    }
   ],
   "source": [
    "def test():\n",
    "    print(\"sample\")\n",
    "    return \n",
    "\n",
    "t=test\n",
    "t()"
   ]
  },
  {
   "cell_type": "code",
   "execution_count": 28,
   "metadata": {},
   "outputs": [
    {
     "name": "stdout",
     "output_type": "stream",
     "text": [
      "[4, 9, 16, 25]\n"
     ]
    }
   ],
   "source": [
    "l=[2,3,4,5]\n",
    "def sq(n):\n",
    "    return n*n\n",
    "print( (list)(map(sq,l)))"
   ]
  },
  {
   "cell_type": "code",
   "execution_count": 32,
   "metadata": {},
   "outputs": [
    {
     "name": "stdout",
     "output_type": "stream",
     "text": [
      "[1, 2, 3]\n"
     ]
    }
   ],
   "source": [
    "l=list(map(int,input().split()))\n",
    "\n",
    "print(l)"
   ]
  },
  {
   "cell_type": "code",
   "execution_count": 34,
   "metadata": {},
   "outputs": [
    {
     "name": "stdout",
     "output_type": "stream",
     "text": [
      "36\n"
     ]
    }
   ],
   "source": [
    "print((lambda x:x*x ) (6))\n"
   ]
  },
  {
   "cell_type": "code",
   "execution_count": 35,
   "metadata": {},
   "outputs": [
    {
     "name": "stdout",
     "output_type": "stream",
     "text": [
      "[4, 9, 16, 25]\n"
     ]
    }
   ],
   "source": [
    "l=[2,3,4,5]\n",
    "def sq(n):\n",
    "    return n*n\n",
    "print( (list)(map((lambda x:x*x ),l)))"
   ]
  },
  {
   "cell_type": "code",
   "execution_count": null,
   "metadata": {},
   "outputs": [],
   "source": []
  }
 ],
 "metadata": {
  "kernelspec": {
   "display_name": "Python 3",
   "language": "python",
   "name": "python3"
  },
  "language_info": {
   "codemirror_mode": {
    "name": "ipython",
    "version": 3
   },
   "file_extension": ".py",
   "mimetype": "text/x-python",
   "name": "python",
   "nbconvert_exporter": "python",
   "pygments_lexer": "ipython3",
   "version": "3.10.6"
  },
  "orig_nbformat": 4
 },
 "nbformat": 4,
 "nbformat_minor": 2
}
