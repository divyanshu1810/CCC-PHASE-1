{
 "cells": [
  {
   "attachments": {},
   "cell_type": "markdown",
   "metadata": {},
   "source": [
    "head recursion\n",
    "tail recursion\n"
   ]
  },
  {
   "cell_type": "code",
   "execution_count": 8,
   "metadata": {},
   "outputs": [
    {
     "name": "stdout",
     "output_type": "stream",
     "text": [
      "4 3 2 1 "
     ]
    }
   ],
   "source": [
    "def test(n):\n",
    "    if n>0:\n",
    "        print(n,end=\" \")\n",
    "        test(n-1)\n",
    "\n",
    "test(4)"
   ]
  },
  {
   "cell_type": "code",
   "execution_count": 6,
   "metadata": {},
   "outputs": [
    {
     "name": "stdout",
     "output_type": "stream",
     "text": [
      "1 2 3 4 "
     ]
    }
   ],
   "source": [
    "def test(n):                                            \n",
    "    if n>0:\n",
    "         test(n-1)\n",
    "         print(n,end=\" \")\n",
    "       \n",
    "\n",
    "test(4)"
   ]
  },
  {
   "cell_type": "code",
   "execution_count": 14,
   "metadata": {},
   "outputs": [
    {
     "name": "stdout",
     "output_type": "stream",
     "text": [
      "entered outer \n",
      "exiting outer fun\n",
      "Enterd inner fun\n"
     ]
    }
   ],
   "source": [
    "def outer():\n",
    "    print(\"entered outer \")\n",
    "\n",
    "    def inner():\n",
    "        print(\"Enterd inner fun\")\n",
    "        return \n",
    "    # inner()\n",
    "    print(\"exiting outer fun\")\n",
    "    return  inner\n",
    "#  outer()\n",
    "tmp=outer()\n",
    "tmp()\n",
    "# inner() # error\n",
    " "
   ]
  }
 ],
 "metadata": {
  "kernelspec": {
   "display_name": "Python 3",
   "language": "python",
   "name": "python3"
  },
  "language_info": {
   "codemirror_mode": {
    "name": "ipython",
    "version": 3
   },
   "file_extension": ".py",
   "mimetype": "text/x-python",
   "name": "python",
   "nbconvert_exporter": "python",
   "pygments_lexer": "ipython3",
   "version": "3.10.6"
  },
  "orig_nbformat": 4
 },
 "nbformat": 4,
 "nbformat_minor": 2
}
