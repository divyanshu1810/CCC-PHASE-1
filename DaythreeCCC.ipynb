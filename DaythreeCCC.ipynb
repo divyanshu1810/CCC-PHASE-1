{
 "cells": [
  {
   "cell_type": "code",
   "execution_count": 1,
   "metadata": {},
   "outputs": [
    {
     "name": "stdout",
     "output_type": "stream",
     "text": [
      "0.75\n",
      "7\n"
     ]
    }
   ],
   "source": [
    "l=[2,3,4,5,6,7,8,9,8]\n",
    "try:\n",
    "    a,b=l[1],l[2]\n",
    "    try:\n",
    "        print(a/b)\n",
    "    except ZeroDivisionError:\n",
    "        print(\"division has a problem\")\n",
    "    print(a+b)\n",
    "except IndexError:\n",
    "    print(\"Index Error\")"
   ]
  },
  {
   "cell_type": "code",
   "execution_count": 9,
   "metadata": {},
   "outputs": [
    {
     "name": "stdout",
     "output_type": "stream",
     "text": [
      "Wrong Guess ❌ : Number too Big\n",
      "Wrong Guess ❌ : Number too small\n",
      "Wrong Guess ❌ : Number too Big\n",
      "Wrong Guess ❌ : Number too Big\n",
      "Wrong Guess ❌ : Number too small\n",
      "The Number was  34\n"
     ]
    }
   ],
   "source": [
    "import random\n",
    "n=5;\n",
    "randomValue = random.randint(1, 100)\n",
    "found=False\n",
    "while(n>0):\n",
    "    ran=int(input())\n",
    "    if(ran==randomValue):\n",
    "        print(\"Winner 🥳🥳\")\n",
    "        found=True\n",
    "        break\n",
    "    else:\n",
    "        print(\"Wrong Guess ❌ \",end=\": \")\n",
    "        if(ran>randomValue):\n",
    "            print('Number too Big')\n",
    "        else:\n",
    "            print('Number too small')\n",
    "        \n",
    "    n=n-1;\n",
    "if(found==False):\n",
    "    print(\"The Number was \",randomValue)\n",
    "   \n"
   ]
  },
  {
   "cell_type": "code",
   "execution_count": null,
   "metadata": {},
   "outputs": [],
   "source": []
  }
 ],
 "metadata": {
  "kernelspec": {
   "display_name": "Python 3",
   "language": "python",
   "name": "python3"
  },
  "language_info": {
   "codemirror_mode": {
    "name": "ipython",
    "version": 3
   },
   "file_extension": ".py",
   "mimetype": "text/x-python",
   "name": "python",
   "nbconvert_exporter": "python",
   "pygments_lexer": "ipython3",
   "version": "3.11.0"
  },
  "orig_nbformat": 4
 },
 "nbformat": 4,
 "nbformat_minor": 2
}
